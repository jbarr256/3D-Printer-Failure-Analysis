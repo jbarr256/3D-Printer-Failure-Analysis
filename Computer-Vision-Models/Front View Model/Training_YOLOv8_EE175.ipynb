{
  "cells": [
    {
      "cell_type": "markdown",
      "metadata": {
        "id": "oJAXQKNNgH0w"
      },
      "source": [
        "## YOLOv8"
      ]
    },
    {
      "cell_type": "code",
      "execution_count": 1,
      "metadata": {
        "colab": {
          "base_uri": "https://localhost:8080/"
        },
        "id": "GH0sdk0oJGLQ",
        "outputId": "82278069-44e2-42f9-97ae-3499828efb2b"
      },
      "outputs": [
        {
          "output_type": "stream",
          "name": "stdout",
          "text": [
            "Mounted at /content/gdrive\n"
          ]
        }
      ],
      "source": [
        "# Mount Google Drive\n",
        "\n",
        "from google.colab import drive\n",
        "\n",
        "drive.mount('/content/gdrive')"
      ]
    },
    {
      "cell_type": "code",
      "source": [
        "# Checking how many images are in a folder\n",
        "import os\n",
        "total_images = \"/content/gdrive/MyDrive/3dPrinterFault/dataset-before-split/images\"\n",
        "print(len(os.listdir(total_images)))\n",
        "num_images = \"/content/gdrive/MyDrive/3dPrinterFault/dataset-before-split/labels\"\n",
        "print(len(os.listdir(num_images)))"
      ],
      "metadata": {
        "id": "TkPVN-_c3Svz"
      },
      "execution_count": null,
      "outputs": []
    },
    {
      "cell_type": "code",
      "execution_count": null,
      "metadata": {
        "id": "3NWlvOzf7_Hp"
      },
      "outputs": [],
      "source": [
        "# !pip install ultralytics\n",
        "!git clone https://github.com/ultralytics/ultralytics\n",
        "# Navigate to the cloned directory\n",
        "%cd ultralytics\n",
        "# Install the package in editable mode for development\n",
        "%pip install -e ."
      ]
    },
    {
      "cell_type": "code",
      "execution_count": null,
      "metadata": {
        "id": "mO4mFuq-JSAa"
      },
      "outputs": [],
      "source": [
        "### 4. Train model ###\n",
        "\n",
        "import os\n",
        "\n",
        "from ultralytics import YOLO\n",
        "\n",
        "# Load a model\n",
        "model = YOLO(\"yolov8n.pt\")  # load pre trained model\n",
        "\n",
        "# Defining args\n",
        "data= /content/gdrive/MyDrive/3dPrinterFault/3d_printer_fault_v8.yaml\n",
        "optimizer= AdamW\n",
        "epochs=100\n",
        "imgsz=640\n",
        "batch=16\n",
        "weight_decay=0.0005\n",
        "cls=0.7\n",
        "lr0=0.0001\n",
        "lrf=0.0001\n",
        "\n",
        "project = 'kfold_demo'\n",
        "\n",
        "# Use the model\n",
        "!yolo task=detect mode=train model=yolov8n.pt optimizer=optimizer data=data epochs=epochs imgsz=imgsz batch=batch weight_decay=weight_decay save=True cls=cls lr0=lr0 lrf=lrf\n"
      ]
    },
    {
      "cell_type": "code",
      "execution_count": null,
      "metadata": {
        "id": "lurvcCixUoqJ"
      },
      "outputs": [],
      "source": [
        "!python detect.py --weights yolov8n.pt --img 640 --conf 0.15 -- source /content/gdrive/MyDrive/3dPrinterFault/3d_printer_fault_v8.yaml"
      ]
    },
    {
      "cell_type": "code",
      "execution_count": null,
      "metadata": {
        "id": "yn37pg1RzYjC"
      },
      "outputs": [],
      "source": [
        "import matplotlib.pyplot as plt\n",
        "import matplotlib.image as mpimg\n",
        "\n",
        "img = mpimg.imread('/content/runs/detect/train/confusion_matrix.png') #Replace \"image.jpg\" with the path of your image\n",
        "plt.imshow(img)\n",
        "plt.axis('off')\n",
        "plt.show()"
      ]
    },
    {
      "cell_type": "code",
      "execution_count": 9,
      "metadata": {
        "id": "eLmLUKaIlZvw"
      },
      "outputs": [],
      "source": [
        "import locale\n",
        "def getpreferredencoding(do_setlocale = True):\n",
        "      return \"UTF-8\"\n",
        "locale.getpreferredencoding = getpreferredencoding"
      ]
    },
    {
      "cell_type": "code",
      "execution_count": null,
      "metadata": {
        "id": "U2UJ63cCJUbQ"
      },
      "outputs": [],
      "source": [
        "# Copy results to drive\n",
        "\n",
        "!scp -r /content/runs '/content/gdrive/My Drive/3dPrinterFault/3rd_Runs'"
      ]
    },
    {
      "cell_type": "markdown",
      "source": [
        "# KFolds Validation with YOLOv8"
      ],
      "metadata": {
        "id": "d4ZArcK-7eiI"
      }
    },
    {
      "cell_type": "code",
      "source": [
        "# Provided by https://docs.ultralytics.com/guides/kfold-cross-validation/#generating-feature-vectors-for-object-detection-dataset\n",
        "\n",
        "import datetime\n",
        "import shutil\n",
        "from pathlib import Path\n",
        "from collections import Counter\n",
        "\n",
        "import yaml\n",
        "import numpy as np\n",
        "import pandas as pd\n",
        "from ultralytics import YOLO\n",
        "from sklearn.model_selection import KFold\n",
        "\n",
        "savedrivepath = Path('/content/gdrive/MyDrive/3dPrinterFault/dataset-after-split')\n",
        "dataset_path = Path('/content/gdrive/MyDrive/3dPrinterFault/dataset-before-split') # replace with 'path/to/dataset' for your custom data\n",
        "labels = sorted(dataset_path.rglob(\"*labels/*.txt\")) # all data in 'labels'\n",
        "# print(len(labels))\n",
        "\n",
        "yaml_file = '/content/gdrive/MyDrive/3dPrinterFault/3DPrintFaults_yolov8.yaml'  # your data YAML with data directories and names dictionary\n",
        "with open(yaml_file, 'r', encoding=\"utf8\") as y:\n",
        "    classes = yaml.safe_load(y)['names']\n",
        "cls_idx = sorted(classes.keys())\n",
        "# print(cls_idx)\n",
        "\n",
        "indx = [l.stem for l in labels] # uses base filename as ID (no extension)\n",
        "\n",
        "labels_df = pd.DataFrame([], columns=cls_idx, index=indx)\n",
        "print(labels_df)\n",
        "# print(labels_df.head())\n",
        "\n",
        "# Counting instance of each class-label\n",
        "for label in labels:\n",
        "    lbl_counter = Counter()\n",
        "\n",
        "    with open(label,'r') as lf:\n",
        "        lines = lf.readlines()\n",
        "\n",
        "    for l in lines:\n",
        "        # classes for YOLO label uses integer at first position of each line\n",
        "        lbl_counter[int(l.split(' ')[0])] += 1\n",
        "        # print(lbl_counter)\n",
        "\n",
        "\n",
        "    labels_df.loc[label.stem] = lbl_counter\n",
        "\n",
        "labels_df = labels_df.fillna(0.0) # replace `nan` values with `0.0`\n",
        "\n",
        "# print(labels_df.shape)\n",
        "# print(labels_df.head())\n",
        "\n",
        "ksplit = 5\n",
        "kf = KFold(n_splits=ksplit, shuffle=True, random_state=20)   # setting random_state for repeatable results\n",
        "\n",
        "kfolds = list(kf.split(labels_df))\n",
        "# print(kfolds)\n",
        "folds = [f'split_{n}' for n in range(1, ksplit + 1)]\n",
        "\n",
        "folds_df = pd.DataFrame(index=indx, columns=folds)\n",
        "# print(folds_df)\n",
        "print(folds_df.to_string())\n",
        "\n",
        "for idx, (train, val) in enumerate(kfolds, start=1):\n",
        "    folds_df[f'split_{idx}'].loc[labels_df.iloc[train].index] = 'train'\n",
        "    folds_df[f'split_{idx}'].loc[labels_df.iloc[val].index] = 'val'\n",
        "\n",
        "fold_lbl_distrb = pd.DataFrame(index=folds, columns=cls_idx)\n",
        "# print(labels_df)\n",
        "\n",
        "for n, (train_indices, val_indices) in enumerate(kfolds, start=1):\n",
        "    train_totals = labels_df.iloc[train_indices].sum()\n",
        "    val_totals = labels_df.iloc[val_indices].sum()\n",
        "\n",
        "    # To avoid division by zero, we add a small value (1E-7) to the denominator\n",
        "    ratio = val_totals / (train_totals + 1E-7)\n",
        "    fold_lbl_distrb.loc[f'split_{n}'] = ratio\n"
      ],
      "metadata": {
        "id": "l4p1QIzT7eOr"
      },
      "execution_count": null,
      "outputs": []
    },
    {
      "cell_type": "code",
      "source": [
        "supported_extensions = ['.jpg', '.jpeg', '.png','.JPG']\n",
        "\n",
        "# Initialize an empty list to store image file paths\n",
        "images = []\n",
        "\n",
        "# Loop through supported extensions and gather image files\n",
        "for ext in supported_extensions:\n",
        "    images.extend(sorted((dataset_path / 'images').rglob(f\"*{ext}\")))\n",
        "\n",
        "# Create the necessary directories and dataset YAML files (unchanged)\n",
        "save_path = Path(savedrivepath / f'{datetime.date.today().isoformat()}_{ksplit}-Fold_Cross-val')\n",
        "save_path.mkdir(parents=True, exist_ok=True)\n",
        "ds_yamls = []\n",
        "\n",
        "for split in folds_df.columns:\n",
        "    # Create directories\n",
        "    split_dir = save_path / split\n",
        "    split_dir.mkdir(parents=True, exist_ok=True)\n",
        "    (split_dir / 'train' / 'images').mkdir(parents=True, exist_ok=True)\n",
        "    (split_dir / 'train' / 'labels').mkdir(parents=True, exist_ok=True)\n",
        "    (split_dir / 'val' / 'images').mkdir(parents=True, exist_ok=True)\n",
        "    (split_dir / 'val' / 'labels').mkdir(parents=True, exist_ok=True)\n",
        "\n",
        "    # Create dataset YAML files\n",
        "    dataset_yaml = split_dir / f'{split}_dataset.yaml'\n",
        "    ds_yamls.append(dataset_yaml)\n",
        "\n",
        "    with open(dataset_yaml, 'w') as ds_y:\n",
        "        yaml.safe_dump({\n",
        "            'path': split_dir.as_posix(),\n",
        "            'train': 'train',\n",
        "            'val': 'val',\n",
        "            'names': classes\n",
        "        }, ds_y)"
      ],
      "metadata": {
        "id": "jIY8fZrJ8lMX"
      },
      "execution_count": 4,
      "outputs": []
    },
    {
      "cell_type": "code",
      "source": [
        "import os\n",
        "\n",
        "missing_files_folder = save_path / \"missing_files\"\n",
        "os.makedirs(missing_files_folder, exist_ok=True)\n",
        "\n",
        "for image, label in zip(images, labels):\n",
        "    if image.stem not in folds_df.index:\n",
        "        # Copy image and label files to the missing_files folder\n",
        "        shutil.copy(image, missing_files_folder / image.name)\n",
        "        shutil.copy(label, missing_files_folder / label.name)"
      ],
      "metadata": {
        "id": "--L8VSheZc3n"
      },
      "execution_count": 6,
      "outputs": []
    },
    {
      "cell_type": "code",
      "source": [
        "for image, label in zip(images, labels):\n",
        "    # if image.stem in folds_df.index:\n",
        "    #  print(\"Stem exists in folds_df index\")\n",
        "    # else:\n",
        "    #   print(\"Stem does not exist in folds_df index\")\n",
        "    for split, k_split in folds_df.loc[image.stem].items():\n",
        "\n",
        "        if image.stem not in folds_df.index:\n",
        "          raise ValueError(f\"Stem {image.stem} not found in folds_df index\")\n",
        "        # Destination directory\n",
        "        img_to_path = save_path / split / k_split / 'images'\n",
        "        lbl_to_path = save_path / split / k_split / 'labels'\n",
        "\n",
        "        # Copy image and label files to new directory (SamefileError if file already exists)\n",
        "        shutil.copy(image, img_to_path / image.name)\n",
        "        shutil.copy(label, lbl_to_path / label.name)"
      ],
      "metadata": {
        "id": "O3_LJZNm8sXH"
      },
      "execution_count": 5,
      "outputs": []
    },
    {
      "cell_type": "code",
      "source": [
        "folds_df.to_csv(save_path / \"kfold_datasplit.csv\")\n",
        "fold_lbl_distrb.to_csv(save_path / \"kfold_label_distribution.csv\")"
      ],
      "metadata": {
        "id": "TVIGCOfy8uMv"
      },
      "execution_count": 6,
      "outputs": []
    },
    {
      "cell_type": "code",
      "source": [
        "model = YOLO(\"yolov8n.pt\", task='detect')  # load pre trained model\n",
        "\n",
        "results = {}\n",
        "\n",
        "batch = 16\n",
        "project = 'kfold_demo'\n",
        "epochs=100\n",
        "weight_decay=0.0005\n",
        "cls=0.7\n",
        "lr0=0.0001\n",
        "lrf=0.0001\n",
        "optimizer='AdamW'\n",
        "\n",
        "for k in range(ksplit):\n",
        "  dataset_yaml = ds_yamls[k]\n",
        "  model.train(data=dataset_yaml, epochs=epochs, batch=batch, project=project, cls=cls, lr0=lr0, lrf=lrf, optimizer=optimizer, weight_decay=weight_decay)\n",
        "  results[k] = model.metrics"
      ],
      "metadata": {
        "id": "La_oFdJTP5O_"
      },
      "execution_count": null,
      "outputs": []
    },
    {
      "cell_type": "code",
      "source": [
        "!scp -r /content/ultralytics/kfold_demo '/content/gdrive/My Drive/3dPrinterFault/4_Runs'"
      ],
      "metadata": {
        "id": "LPyd8cXJUoMK"
      },
      "execution_count": 11,
      "outputs": []
    }
  ],
  "metadata": {
    "colab": {
      "provenance": [],
      "machine_shape": "hm",
      "collapsed_sections": [
        "oJAXQKNNgH0w",
        "d4ZArcK-7eiI"
      ]
    },
    "kernelspec": {
      "display_name": "Python 3",
      "name": "python3"
    },
    "language_info": {
      "name": "python"
    }
  },
  "nbformat": 4,
  "nbformat_minor": 0
}